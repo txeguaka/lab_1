{
 "cells": [
  {
   "cell_type": "code",
   "execution_count": 9,
   "source": [
    "print (53431 % 453)"
   ],
   "outputs": [
    {
     "output_type": "stream",
     "name": "stdout",
     "text": [
      "430\n"
     ]
    }
   ],
   "metadata": {}
  },
  {
   "cell_type": "code",
   "execution_count": 1,
   "source": [
    "print (0x43 | 0x21)\n",
    "print (0x43 & 0x21)\n",
    "print (0x43 ^ 0x21)\n"
   ],
   "outputs": [
    {
     "output_type": "stream",
     "name": "stdout",
     "text": [
      "99\n",
      "1\n",
      "98\n"
     ]
    }
   ],
   "metadata": {}
  },
  {
   "cell_type": "code",
   "execution_count": 4,
   "source": [
    "val1=93 \n",
    "print (\"Dec:\\t\",val1)\n",
    "print (\"Bin:\\t\",bin(val1))\n",
    "print (\"Hex:\\t\",hex(val1)) \n",
    "print (\"Oct:\\t\",oct(val1))\n",
    "print (\"Char:\\t\",chr(val1))\n"
   ],
   "outputs": [
    {
     "output_type": "stream",
     "name": "stdout",
     "text": [
      "Dec:\t 93\n",
      "Bin:\t 0b1011101\n",
      "Hex:\t 0x5d\n",
      "Oct:\t 0o135\n",
      "Char:\t ]\n"
     ]
    }
   ],
   "metadata": {}
  },
  {
   "cell_type": "code",
   "execution_count": 22,
   "source": [
    "import base64 \n",
    "str = 'crypto'.encode('ascii')\n",
    "#print (str)\n",
    "#str_b64 = base64.b64encode(str)\n",
    "#print (str_b64)\n",
    "print (base64.b64encode(str))"
   ],
   "outputs": [
    {
     "output_type": "stream",
     "name": "stdout",
     "text": [
      "b'Y3J5cHRv'\n"
     ]
    }
   ],
   "metadata": {}
  },
  {
   "cell_type": "code",
   "execution_count": 25,
   "source": [
    "import base64\n",
    "str = 'crypto1'.encode('ascii')\n",
    "print (base64.b64encode(str))"
   ],
   "outputs": [
    {
     "output_type": "stream",
     "name": "stdout",
     "text": [
      "b'Y3J5cHRvMQ=='\n"
     ]
    }
   ],
   "metadata": {}
  },
  {
   "cell_type": "code",
   "execution_count": 41,
   "source": [
    "import sys\n",
    "val1=\"00110101\"\n",
    "#if (len(sys.argv)>1):\n",
    "#        val1=sys.argv[1]\n",
    "print (\"Binary form:  \\t\\t\",val1)\n",
    "\n",
    "dec=int(val1,2)\n",
    "print (\"Decimal form:  \\t\\t\",dec,\"\\t\",bin(dec)[2:10].rjust(8,'0'))\n",
    "res=(dec << 1) & 0xff\n",
    "print (\"Shift left  (1):\\t\",res,\"\\t\",bin(res)[2:10].rjust(8,'0'))\n",
    "res=(dec << 2) & 0xff\n",
    "print (\"Shift left  (2):\\t\",res,\"\\t\",bin(res)[2:].rjust(8,'0'))\n",
    "res=(dec >> 1) & 0xff\n",
    "print (\"Shift right (1):\\t\",res,\"\\t\",bin(res)[2:10].rjust(8,'0'))\n",
    "res=(dec >> 2) & 0xff\n",
    "print (\"Shift right (2):\\t\",res,\"\\t\",bin(res)[2:10].rjust(8,'0'))"
   ],
   "outputs": [
    {
     "output_type": "stream",
     "name": "stdout",
     "text": [
      "Binary form:  \t\t 00110101\n",
      "Decimal form:  \t\t 53 \t 00110101\n",
      "Shift left  (1):\t 106 \t 01101010\n",
      "Shift left  (2):\t 212 \t 11010100\n",
      "Shift right (1):\t 26 \t 00011010\n",
      "Shift right (2):\t 13 \t 00001101\n"
     ]
    }
   ],
   "metadata": {}
  },
  {
   "cell_type": "code",
   "execution_count": null,
   "source": [
    "# Descomposición en factores primos\n",
    "\n",
    "def reduceNum(n):\n",
    "    print ('{} = '.format(n),)\n",
    "    if not isinstance(n, int) or n <= 0 :\n",
    "        print ('Ingrese un número correcto! ')\n",
    "        exit(0)\n",
    "    elif n in [1] :\n",
    " #       print ('{}'.format(n) mientras que n no está en [1]:) # ciclo garantiza la recursividad\n",
    "        for index in xrange(2, n + 1) :\n",
    "            if n % index == 0:\n",
    "                n /= índice # n es igual an / índice\n",
    "                if n == 1: \n",
    "                    print (index )\n",
    "                else: # el índice debe ser primo\n",
    "                    print ('{} *'.format(index),)\n",
    "                break\n",
    "reduceNum(90)\n",
    "reduceNum(100)\n"
   ],
   "outputs": [
    {
     "output_type": "error",
     "ename": "Error",
     "evalue": "Session cannot generate requests",
     "traceback": [
      "Error: Session cannot generate requests",
      "at w.executeCodeCell (/home/txeguaka/.vscode/extensions/ms-toolsai.jupyter-2021.8.2041215044/out/client/extension.js:52:301310)",
      "at w.execute (/home/txeguaka/.vscode/extensions/ms-toolsai.jupyter-2021.8.2041215044/out/client/extension.js:52:300703)",
      "at w.start (/home/txeguaka/.vscode/extensions/ms-toolsai.jupyter-2021.8.2041215044/out/client/extension.js:52:296367)",
      "at processTicksAndRejections (internal/process/task_queues.js:93:5)",
      "at async t.CellExecutionQueue.executeQueuedCells (/home/txeguaka/.vscode/extensions/ms-toolsai.jupyter-2021.8.2041215044/out/client/extension.js:52:311160)",
      "at async t.CellExecutionQueue.start (/home/txeguaka/.vscode/extensions/ms-toolsai.jupyter-2021.8.2041215044/out/client/extension.js:52:310700)"
     ]
    }
   ],
   "metadata": {}
  },
  {
   "cell_type": "code",
   "execution_count": 18,
   "source": [
    "import base64\n",
    "\n",
    "base64_img = 'iVBORw0KGgoAAAANSUhEUgAAABAAAAAQCAYAAAAf8/9hAAAACXBIWXMAAAsTAAA' \\\n",
    "            'LEwEAmpwYAAAB1klEQVQ4jY2TTUhUURTHf+fy/HrjhNEX2KRGiyIXg8xgSURuokX' \\\n",
    "            'LxFW0qDTaSQupkHirthK0qF0WQQQR0UCbwCQyw8KCiDbShEYLJQdmpsk3895p4aS' \\\n",
    "            'v92ass7pcfv/zP+fcc4U6kXKe2pTY3tjSUHjtnFgB0VqchC/SY8/293S23f+6VEj' \\\n",
    "            '9KKwCoPDNIJdmr598GOZNJKNWTic7tqb27WwNuuwGvVWrAit84fsmMzE1P1+1TiK' \\\n",
    "            'MVKvYUjdBvzPZXCwXzyhyWNBgVYkgrIow09VJMznpyebWE+Tdn9cEroBSc1JVPS+' \\\n",
    "            '6moh5Xyjj65vEgBxafGzWetTh+rr1eE/c/TMYg8hlAOvI6JP4KmwLgJ4qD0TIbli' \\\n",
    "            'TB+sunjkbeLekKsZ6Zc8V027aBRoBRHVoduDiSypmGFG7CrcBEyDHA0ZNfNphC0D' \\\n",
    "            '6amYa6ANw3YbWD4Pn3oIc+EdL36V3od0A+MaMAXmA8x2Zyn+IQeQeBDfRcUw3B+2' \\\n",
    "            'PxwZ/EdtTDpCPQLMh9TKx0k3pXipEVlknsf5KoNzGyOe1sz8nvYtTQT6yyvTjIax' \\\n",
    "            'smHGB9pFx4n3jIEfDePQvCIrnn0J4B/gA5J4XcRfu4JZuRAw3C51OtOjM3l2bMb8' \\\n",
    "            'Br5eXCsT/w/EAAAAASUVORK5CYII='\n",
    "\n",
    "base64_img_bytes = base64_img.encode('utf-8')\n",
    "with open('decoded_image.png', 'wb') as file_to_save:\n",
    "    decoded_image_data = base64.decodebytes(base64_img_bytes)\n",
    "    file_to_save.write(decoded_image_data)"
   ],
   "outputs": [],
   "metadata": {}
  }
 ],
 "metadata": {
  "orig_nbformat": 4,
  "language_info": {
   "name": "python",
   "version": "3.9.7",
   "mimetype": "text/x-python",
   "codemirror_mode": {
    "name": "ipython",
    "version": 3
   },
   "pygments_lexer": "ipython3",
   "nbconvert_exporter": "python",
   "file_extension": ".py"
  },
  "kernelspec": {
   "name": "python3",
   "display_name": "Python 3.9.7 64-bit"
  },
  "interpreter": {
   "hash": "916dbcbb3f70747c44a77c7bcd40155683ae19c65e1c03b4aa3499c5328201f1"
  }
 },
 "nbformat": 4,
 "nbformat_minor": 2
}